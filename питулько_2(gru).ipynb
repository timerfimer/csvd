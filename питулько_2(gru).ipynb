{
  "nbformat": 4,
  "nbformat_minor": 0,
  "metadata": {
    "colab": {
      "provenance": []
    },
    "kernelspec": {
      "name": "python3",
      "display_name": "Python 3"
    },
    "language_info": {
      "name": "python"
    }
  },
  "cells": [
    {
      "cell_type": "code",
      "execution_count": 35,
      "metadata": {
        "colab": {
          "base_uri": "https://localhost:8080/"
        },
        "id": "dHMa0rmeFhw0",
        "outputId": "0fa396d4-e526-46d8-88ca-5101f65c9bb3"
      },
      "outputs": [
        {
          "output_type": "stream",
          "name": "stdout",
          "text": [
            "Epoch 1/50\n",
            "1/1 [==============================] - 4s 4s/step - loss: 0.6914 - accuracy: 0.6667\n",
            "Epoch 2/50\n",
            "1/1 [==============================] - 0s 39ms/step - loss: 0.6899 - accuracy: 0.6667\n",
            "Epoch 3/50\n",
            "1/1 [==============================] - 0s 39ms/step - loss: 0.6884 - accuracy: 0.6667\n",
            "Epoch 4/50\n",
            "1/1 [==============================] - 0s 38ms/step - loss: 0.6868 - accuracy: 0.6667\n",
            "Epoch 5/50\n",
            "1/1 [==============================] - 0s 35ms/step - loss: 0.6853 - accuracy: 0.8333\n",
            "Epoch 6/50\n",
            "1/1 [==============================] - 0s 38ms/step - loss: 0.6838 - accuracy: 0.8333\n",
            "Epoch 7/50\n",
            "1/1 [==============================] - 0s 38ms/step - loss: 0.6822 - accuracy: 0.8333\n",
            "Epoch 8/50\n",
            "1/1 [==============================] - 0s 40ms/step - loss: 0.6806 - accuracy: 0.8333\n",
            "Epoch 9/50\n",
            "1/1 [==============================] - 0s 40ms/step - loss: 0.6790 - accuracy: 1.0000\n",
            "Epoch 10/50\n",
            "1/1 [==============================] - 0s 43ms/step - loss: 0.6774 - accuracy: 1.0000\n",
            "Epoch 11/50\n",
            "1/1 [==============================] - 0s 47ms/step - loss: 0.6758 - accuracy: 1.0000\n",
            "Epoch 12/50\n",
            "1/1 [==============================] - 0s 45ms/step - loss: 0.6741 - accuracy: 1.0000\n",
            "Epoch 13/50\n",
            "1/1 [==============================] - 0s 42ms/step - loss: 0.6724 - accuracy: 1.0000\n",
            "Epoch 14/50\n",
            "1/1 [==============================] - 0s 37ms/step - loss: 0.6707 - accuracy: 1.0000\n",
            "Epoch 15/50\n",
            "1/1 [==============================] - 0s 40ms/step - loss: 0.6689 - accuracy: 1.0000\n",
            "Epoch 16/50\n",
            "1/1 [==============================] - 0s 42ms/step - loss: 0.6671 - accuracy: 1.0000\n",
            "Epoch 17/50\n",
            "1/1 [==============================] - 0s 44ms/step - loss: 0.6652 - accuracy: 1.0000\n",
            "Epoch 18/50\n",
            "1/1 [==============================] - 0s 38ms/step - loss: 0.6633 - accuracy: 1.0000\n",
            "Epoch 19/50\n",
            "1/1 [==============================] - 0s 38ms/step - loss: 0.6614 - accuracy: 1.0000\n",
            "Epoch 20/50\n",
            "1/1 [==============================] - 0s 38ms/step - loss: 0.6593 - accuracy: 1.0000\n",
            "Epoch 21/50\n",
            "1/1 [==============================] - 0s 39ms/step - loss: 0.6572 - accuracy: 1.0000\n",
            "Epoch 22/50\n",
            "1/1 [==============================] - 0s 46ms/step - loss: 0.6551 - accuracy: 1.0000\n",
            "Epoch 23/50\n",
            "1/1 [==============================] - 0s 48ms/step - loss: 0.6529 - accuracy: 1.0000\n",
            "Epoch 24/50\n",
            "1/1 [==============================] - 0s 49ms/step - loss: 0.6506 - accuracy: 1.0000\n",
            "Epoch 25/50\n",
            "1/1 [==============================] - 0s 41ms/step - loss: 0.6482 - accuracy: 1.0000\n",
            "Epoch 26/50\n",
            "1/1 [==============================] - 0s 38ms/step - loss: 0.6458 - accuracy: 1.0000\n",
            "Epoch 27/50\n",
            "1/1 [==============================] - 0s 38ms/step - loss: 0.6432 - accuracy: 1.0000\n",
            "Epoch 28/50\n",
            "1/1 [==============================] - 0s 48ms/step - loss: 0.6406 - accuracy: 1.0000\n",
            "Epoch 29/50\n",
            "1/1 [==============================] - 0s 43ms/step - loss: 0.6378 - accuracy: 1.0000\n",
            "Epoch 30/50\n",
            "1/1 [==============================] - 0s 61ms/step - loss: 0.6350 - accuracy: 1.0000\n",
            "Epoch 31/50\n",
            "1/1 [==============================] - 0s 69ms/step - loss: 0.6320 - accuracy: 1.0000\n",
            "Epoch 32/50\n",
            "1/1 [==============================] - 0s 53ms/step - loss: 0.6290 - accuracy: 1.0000\n",
            "Epoch 33/50\n",
            "1/1 [==============================] - 0s 37ms/step - loss: 0.6258 - accuracy: 1.0000\n",
            "Epoch 34/50\n",
            "1/1 [==============================] - 0s 38ms/step - loss: 0.6225 - accuracy: 1.0000\n",
            "Epoch 35/50\n",
            "1/1 [==============================] - 0s 38ms/step - loss: 0.6190 - accuracy: 1.0000\n",
            "Epoch 36/50\n",
            "1/1 [==============================] - 0s 40ms/step - loss: 0.6155 - accuracy: 1.0000\n",
            "Epoch 37/50\n",
            "1/1 [==============================] - 0s 37ms/step - loss: 0.6117 - accuracy: 1.0000\n",
            "Epoch 38/50\n",
            "1/1 [==============================] - 0s 41ms/step - loss: 0.6079 - accuracy: 1.0000\n",
            "Epoch 39/50\n",
            "1/1 [==============================] - 0s 44ms/step - loss: 0.6038 - accuracy: 1.0000\n",
            "Epoch 40/50\n",
            "1/1 [==============================] - 0s 40ms/step - loss: 0.5996 - accuracy: 1.0000\n",
            "Epoch 41/50\n",
            "1/1 [==============================] - 0s 35ms/step - loss: 0.5952 - accuracy: 1.0000\n",
            "Epoch 42/50\n",
            "1/1 [==============================] - 0s 38ms/step - loss: 0.5906 - accuracy: 1.0000\n",
            "Epoch 43/50\n",
            "1/1 [==============================] - 0s 35ms/step - loss: 0.5858 - accuracy: 1.0000\n",
            "Epoch 44/50\n",
            "1/1 [==============================] - 0s 45ms/step - loss: 0.5809 - accuracy: 1.0000\n",
            "Epoch 45/50\n",
            "1/1 [==============================] - 0s 39ms/step - loss: 0.5757 - accuracy: 1.0000\n",
            "Epoch 46/50\n",
            "1/1 [==============================] - 0s 49ms/step - loss: 0.5703 - accuracy: 1.0000\n",
            "Epoch 47/50\n",
            "1/1 [==============================] - 0s 43ms/step - loss: 0.5646 - accuracy: 1.0000\n",
            "Epoch 48/50\n",
            "1/1 [==============================] - 0s 35ms/step - loss: 0.5587 - accuracy: 1.0000\n",
            "Epoch 49/50\n",
            "1/1 [==============================] - 0s 43ms/step - loss: 0.5526 - accuracy: 1.0000\n",
            "Epoch 50/50\n",
            "1/1 [==============================] - 0s 53ms/step - loss: 0.5462 - accuracy: 1.0000\n"
          ]
        }
      ],
      "source": [
        "import numpy as np\n",
        "from tensorflow.keras.layers import Dense, GRU, Embedding\n",
        "from tensorflow.keras.models import Sequential\n",
        "from tensorflow.keras.optimizers import Adam\n",
        "from tensorflow.keras.preprocessing.text import Tokenizer\n",
        "from tensorflow.keras.preprocessing.sequence import pad_sequences\n",
        "\n",
        "positive_texts = [\n",
        "    \"My friend and I had a great time at the amusement park. I highly recommend it to everyone!\",\n",
        "    \"I was impressed with the pizza from that new restaurant. It's the best I've ever tasted!\",\n",
        "    \"The new teacher at school is fantastic. I really enjoy their classes!\",\n",
        "]\n",
        "\n",
        "negative_texts = [\n",
        "    \"I didn't enjoy the concert last night. It was too loud and crowded.\",\n",
        "    \"The customer service at the store was terrible. I won't be going back there again.\",\n",
        "    \"The movie we watched was awful. I didn't like it one bit.\",\n",
        "]\n",
        "\n",
        "texts = positive_texts + negative_texts\n",
        "\n",
        "max_words_count = 1000\n",
        "\n",
        "tokenizer = Tokenizer(num_words=max_words_count, filters='!\"#$%&()*+,-./:;<=>?@[\\\\]^_`{|}~\\t\\n\\r«»', lower=True, split=' ', char_level=False)\n",
        "tokenizer.fit_on_texts(texts)\n",
        "\n",
        "max_sequence_length = 10\n",
        "\n",
        "sequences = tokenizer.texts_to_sequences(texts)\n",
        "padded_sequences = pad_sequences(sequences, maxlen=max_sequence_length)\n",
        "\n",
        "labels = np.array([[1, 0]] * len(positive_texts) + [[0, 1]] * len(negative_texts))\n",
        "indices = np.random.choice(padded_sequences.shape[0], size=padded_sequences.shape[0], replace=False)\n",
        "padded_sequences = padded_sequences[indices]\n",
        "labels = labels[indices]\n",
        "\n",
        "model = Sequential([\n",
        "    Embedding(max_words_count, 128, input_length=max_sequence_length),\n",
        "    GRU(128, return_sequences=True),\n",
        "    GRU(64),\n",
        "    Dense(2, activation='softmax')\n",
        "])\n",
        "\n",
        "model.compile(loss='categorical_crossentropy', metrics=['accuracy'], optimizer=Adam(0.0001))\n",
        "\n",
        "history = model.fit(padded_sequences, labels, batch_size=32, epochs=50)\n",
        "\n",
        "def check_sentiment(text):\n",
        "    sequence = tokenizer.texts_to_sequences([text.lower()])\n",
        "    padded_sequence = pad_sequences(sequence, maxlen=max_sequence_length)\n",
        "    result = model.predict(padded_sequence)\n",
        "    if np.argmax(result) == 0:\n",
        "        print(\"Аналіз: Позитивне значчення\")\n",
        "    else:\n",
        "        print(\"Аналз: Негативне значення\")"
      ]
    },
    {
      "cell_type": "code",
      "source": [
        "check_sentiment(\"I really liked that book\")\n",
        "check_sentiment(\"I didn't enjoy the concert last night\")"
      ],
      "metadata": {
        "colab": {
          "base_uri": "https://localhost:8080/"
        },
        "id": "b362dwTlFyft",
        "outputId": "a2b9bd54-4064-4a5d-aa93-4eb64cdf4c77"
      },
      "execution_count": 36,
      "outputs": [
        {
          "output_type": "stream",
          "name": "stdout",
          "text": [
            "1/1 [==============================] - 1s 818ms/step\n",
            "Аналіз: Позитивне значчення\n",
            "1/1 [==============================] - 0s 28ms/step\n",
            "Аналз: Негативне значення\n"
          ]
        }
      ]
    },
    {
      "cell_type": "code",
      "source": [
        "check_sentiment(\"movie we watched was awful\")\n"
      ],
      "metadata": {
        "colab": {
          "base_uri": "https://localhost:8080/"
        },
        "id": "jOi0NLMYImgj",
        "outputId": "2c15ecf8-c6da-4f74-d975-df67e06f729b"
      },
      "execution_count": 39,
      "outputs": [
        {
          "output_type": "stream",
          "name": "stdout",
          "text": [
            "1/1 [==============================] - 0s 44ms/step\n",
            "Аналз: Негативне значення\n"
          ]
        }
      ]
    },
    {
      "cell_type": "markdown",
      "source": [
        "висновок: на цій лабораторній роботі було розроблено семантичний аналізатор з викорастанням gru. результатом є можливість аналізу позитивного та негативного тексту."
      ],
      "metadata": {
        "id": "iZDmwV_RQcDy"
      }
    }
  ]
}