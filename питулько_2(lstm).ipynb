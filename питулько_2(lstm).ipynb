{
  "nbformat": 4,
  "nbformat_minor": 0,
  "metadata": {
    "colab": {
      "provenance": []
    },
    "kernelspec": {
      "name": "python3",
      "display_name": "Python 3"
    },
    "language_info": {
      "name": "python"
    }
  },
  "cells": [
    {
      "cell_type": "code",
      "execution_count": 32,
      "metadata": {
        "colab": {
          "base_uri": "https://localhost:8080/"
        },
        "id": "zpn-w9U-JG2N",
        "outputId": "3ec907e1-f788-4b60-fd3e-7b35977b63e9"
      },
      "outputs": [
        {
          "output_type": "stream",
          "name": "stdout",
          "text": [
            "Epoch 1/50\n",
            "1/1 [==============================] - 4s 4s/step - loss: 0.6911 - accuracy: 0.6667\n",
            "Epoch 2/50\n",
            "1/1 [==============================] - 0s 39ms/step - loss: 0.6828 - accuracy: 0.9167\n",
            "Epoch 3/50\n",
            "1/1 [==============================] - 0s 36ms/step - loss: 0.6763 - accuracy: 1.0000\n",
            "Epoch 4/50\n",
            "1/1 [==============================] - 0s 36ms/step - loss: 0.6669 - accuracy: 1.0000\n",
            "Epoch 5/50\n",
            "1/1 [==============================] - 0s 35ms/step - loss: 0.6576 - accuracy: 1.0000\n",
            "Epoch 6/50\n",
            "1/1 [==============================] - 0s 35ms/step - loss: 0.6437 - accuracy: 1.0000\n",
            "Epoch 7/50\n",
            "1/1 [==============================] - 0s 38ms/step - loss: 0.6263 - accuracy: 1.0000\n",
            "Epoch 8/50\n",
            "1/1 [==============================] - 0s 40ms/step - loss: 0.6091 - accuracy: 1.0000\n",
            "Epoch 9/50\n",
            "1/1 [==============================] - 0s 37ms/step - loss: 0.5850 - accuracy: 1.0000\n",
            "Epoch 10/50\n",
            "1/1 [==============================] - 0s 34ms/step - loss: 0.5596 - accuracy: 1.0000\n",
            "Epoch 11/50\n",
            "1/1 [==============================] - 0s 34ms/step - loss: 0.5258 - accuracy: 1.0000\n",
            "Epoch 12/50\n",
            "1/1 [==============================] - 0s 35ms/step - loss: 0.4824 - accuracy: 1.0000\n",
            "Epoch 13/50\n",
            "1/1 [==============================] - 0s 38ms/step - loss: 0.4334 - accuracy: 1.0000\n",
            "Epoch 14/50\n",
            "1/1 [==============================] - 0s 41ms/step - loss: 0.3825 - accuracy: 1.0000\n",
            "Epoch 15/50\n",
            "1/1 [==============================] - 0s 36ms/step - loss: 0.3236 - accuracy: 0.9167\n",
            "Epoch 16/50\n",
            "1/1 [==============================] - 0s 38ms/step - loss: 0.2650 - accuracy: 0.9167\n",
            "Epoch 17/50\n",
            "1/1 [==============================] - 0s 35ms/step - loss: 0.2042 - accuracy: 0.9167\n",
            "Epoch 18/50\n",
            "1/1 [==============================] - 0s 34ms/step - loss: 0.1598 - accuracy: 0.9167\n",
            "Epoch 19/50\n",
            "1/1 [==============================] - 0s 47ms/step - loss: 0.1099 - accuracy: 1.0000\n",
            "Epoch 20/50\n",
            "1/1 [==============================] - 0s 38ms/step - loss: 0.0875 - accuracy: 1.0000\n",
            "Epoch 21/50\n",
            "1/1 [==============================] - 0s 35ms/step - loss: 0.0543 - accuracy: 1.0000\n",
            "Epoch 22/50\n",
            "1/1 [==============================] - 0s 35ms/step - loss: 0.0356 - accuracy: 1.0000\n",
            "Epoch 23/50\n",
            "1/1 [==============================] - 0s 35ms/step - loss: 0.0219 - accuracy: 1.0000\n",
            "Epoch 24/50\n",
            "1/1 [==============================] - 0s 36ms/step - loss: 0.0158 - accuracy: 1.0000\n",
            "Epoch 25/50\n",
            "1/1 [==============================] - 0s 36ms/step - loss: 0.0175 - accuracy: 1.0000\n",
            "Epoch 26/50\n",
            "1/1 [==============================] - 0s 38ms/step - loss: 0.0178 - accuracy: 1.0000\n",
            "Epoch 27/50\n",
            "1/1 [==============================] - 0s 36ms/step - loss: 0.0189 - accuracy: 1.0000\n",
            "Epoch 28/50\n",
            "1/1 [==============================] - 0s 35ms/step - loss: 0.0076 - accuracy: 1.0000\n",
            "Epoch 29/50\n",
            "1/1 [==============================] - 0s 34ms/step - loss: 0.0019 - accuracy: 1.0000\n",
            "Epoch 30/50\n",
            "1/1 [==============================] - 0s 36ms/step - loss: 9.9673e-04 - accuracy: 1.0000\n",
            "Epoch 31/50\n",
            "1/1 [==============================] - 0s 36ms/step - loss: 0.0016 - accuracy: 1.0000\n",
            "Epoch 32/50\n",
            "1/1 [==============================] - 0s 41ms/step - loss: 0.0028 - accuracy: 1.0000\n",
            "Epoch 33/50\n",
            "1/1 [==============================] - 0s 34ms/step - loss: 0.0017 - accuracy: 1.0000\n",
            "Epoch 34/50\n",
            "1/1 [==============================] - 0s 37ms/step - loss: 0.0362 - accuracy: 1.0000\n",
            "Epoch 35/50\n",
            "1/1 [==============================] - 0s 38ms/step - loss: 0.0042 - accuracy: 1.0000\n",
            "Epoch 36/50\n",
            "1/1 [==============================] - 0s 38ms/step - loss: 6.5255e-04 - accuracy: 1.0000\n",
            "Epoch 37/50\n",
            "1/1 [==============================] - 0s 36ms/step - loss: 0.0011 - accuracy: 1.0000\n",
            "Epoch 38/50\n",
            "1/1 [==============================] - 0s 36ms/step - loss: 8.6912e-04 - accuracy: 1.0000\n",
            "Epoch 39/50\n",
            "1/1 [==============================] - 0s 39ms/step - loss: 0.0129 - accuracy: 1.0000\n",
            "Epoch 40/50\n",
            "1/1 [==============================] - 0s 38ms/step - loss: 7.4489e-04 - accuracy: 1.0000\n",
            "Epoch 41/50\n",
            "1/1 [==============================] - 0s 36ms/step - loss: 0.0032 - accuracy: 1.0000\n",
            "Epoch 42/50\n",
            "1/1 [==============================] - 0s 34ms/step - loss: 0.0085 - accuracy: 1.0000\n",
            "Epoch 43/50\n",
            "1/1 [==============================] - 0s 49ms/step - loss: 4.3118e-04 - accuracy: 1.0000\n",
            "Epoch 44/50\n",
            "1/1 [==============================] - 0s 38ms/step - loss: 0.0012 - accuracy: 1.0000\n",
            "Epoch 45/50\n",
            "1/1 [==============================] - 0s 38ms/step - loss: 3.4330e-04 - accuracy: 1.0000\n",
            "Epoch 46/50\n",
            "1/1 [==============================] - 0s 38ms/step - loss: 2.0993e-04 - accuracy: 1.0000\n",
            "Epoch 47/50\n",
            "1/1 [==============================] - 0s 36ms/step - loss: 2.0838e-04 - accuracy: 1.0000\n",
            "Epoch 48/50\n",
            "1/1 [==============================] - 0s 39ms/step - loss: 3.9689e-04 - accuracy: 1.0000\n",
            "Epoch 49/50\n",
            "1/1 [==============================] - 0s 36ms/step - loss: 2.1869e-04 - accuracy: 1.0000\n",
            "Epoch 50/50\n",
            "1/1 [==============================] - 0s 34ms/step - loss: 2.3719e-04 - accuracy: 1.0000\n"
          ]
        }
      ],
      "source": [
        "import numpy as np\n",
        "from tensorflow.keras.layers import Dense, Embedding, LSTM\n",
        "from tensorflow.keras.models import Sequential\n",
        "from tensorflow.keras.optimizers import Adam\n",
        "from tensorflow.keras.preprocessing.text import Tokenizer\n",
        "from tensorflow.keras.preprocessing.sequence import pad_sequences\n",
        "\n",
        "positive_texts = [\n",
        "    \"My friend and I had a great time at the amusement park. I highly recommend it to everyone!\",\n",
        "    \"I was impressed with the pizza from that new restaurant. It's the best I've ever tasted!\",\n",
        "    \"The new teacher at school is fantastic. I really enjoy their classes!\",\n",
        "      \"I love spending time with my family.\",\n",
        "    \"The weather is beautiful today!\",\n",
        "    \"I received a nice compliment from my colleague.\"\n",
        "]\n",
        "\n",
        "negative_texts = [\n",
        "    \"I didn't enjoy the concert last night. It was too loud and crowded.\",\n",
        "    \"The customer service at the store was terrible. I won't be going back there again.\",\n",
        "    \"The movie we watched was awful. I didn't like it one bit.\",\n",
        "     \"I lost my wallet on the way to work.\",\n",
        "    \"The traffic was terrible this morning.\",\n",
        "    \"My computer crashed and I lost all my work.\"\n",
        "]\n",
        "\n",
        "texts = positive_texts + negative_texts\n",
        "\n",
        "max_words_count = 1000\n",
        "\n",
        "tokenizer = Tokenizer(num_words=max_words_count, lower=True)\n",
        "tokenizer.fit_on_texts(texts)\n",
        "\n",
        "max_sequence_length = 10\n",
        "\n",
        "sequences = tokenizer.texts_to_sequences(texts)\n",
        "padded_sequences = pad_sequences(sequences, maxlen=max_sequence_length)\n",
        "\n",
        "labels = np.array([[1, 0]] * len(positive_texts) + [[0, 1]] * len(negative_texts))\n",
        "\n",
        "model = Sequential([\n",
        "    Embedding(max_words_count, 128, input_length=max_sequence_length),\n",
        "    LSTM(128, dropout=0.2, recurrent_dropout=0.2),\n",
        "    Dense(2, activation='softmax')\n",
        "])\n",
        "\n",
        "model.compile(loss='categorical_crossentropy', metrics=['accuracy'], optimizer=Adam(learning_rate=0.001))\n",
        "\n",
        "history = model.fit(padded_sequences, labels, batch_size=32, epochs=50, verbose=1)\n",
        "\n",
        "def check_sentiment(text):\n",
        "    sequence = tokenizer.texts_to_sequences([text.lower()])\n",
        "    padded_sequence = pad_sequences(sequence, maxlen=max_sequence_length)\n",
        "\n",
        "    result = model.predict(padded_sequence)\n",
        "\n",
        "    if np.argmax(result) == 0:\n",
        "        print(\"Аналіз: Позитивне значчення\")\n",
        "    else:\n",
        "        print(\"Аналз: Негативне значення\")\n"
      ]
    },
    {
      "cell_type": "code",
      "source": [
        "\n",
        "check_sentiment(\"I really liked that film\")\n",
        "check_sentiment(\"I didn't enjoy the concert last night\")"
      ],
      "metadata": {
        "colab": {
          "base_uri": "https://localhost:8080/"
        },
        "id": "Mos9uoI3JQHW",
        "outputId": "08539312-fa5c-4118-d414-bcc7ad7eb7b4"
      },
      "execution_count": 33,
      "outputs": [
        {
          "output_type": "stream",
          "name": "stderr",
          "text": [
            "WARNING:tensorflow:5 out of the last 12 calls to <function Model.make_predict_function.<locals>.predict_function at 0x7e5ee182dbd0> triggered tf.function retracing. Tracing is expensive and the excessive number of tracings could be due to (1) creating @tf.function repeatedly in a loop, (2) passing tensors with different shapes, (3) passing Python objects instead of tensors. For (1), please define your @tf.function outside of the loop. For (2), @tf.function has reduce_retracing=True option that can avoid unnecessary retracing. For (3), please refer to https://www.tensorflow.org/guide/function#controlling_retracing and https://www.tensorflow.org/api_docs/python/tf/function for  more details.\n"
          ]
        },
        {
          "output_type": "stream",
          "name": "stdout",
          "text": [
            "1/1 [==============================] - 0s 264ms/step\n",
            "Аналіз: Позитивне значчення\n",
            "1/1 [==============================] - 0s 24ms/step\n",
            "Аналз: Негативне значення\n"
          ]
        }
      ]
    },
    {
      "cell_type": "code",
      "source": [
        "check_sentiment(\"concert was beautiful\")\n"
      ],
      "metadata": {
        "colab": {
          "base_uri": "https://localhost:8080/"
        },
        "id": "SsDZQPEjKJWO",
        "outputId": "bd7ebc32-cabb-49f1-a9e1-7aedb93039a3"
      },
      "execution_count": 37,
      "outputs": [
        {
          "output_type": "stream",
          "name": "stdout",
          "text": [
            "1/1 [==============================] - 0s 23ms/step\n",
            "Аналіз: Позитивне значчення\n"
          ]
        }
      ]
    },
    {
      "cell_type": "markdown",
      "source": [
        "висновок: висновок: на цій лабораторній роботі було розроблено семантичний аналізатор з викорастанням lstm. результатом є можливість аналізу позитивного та негативного тексту."
      ],
      "metadata": {
        "id": "g5K73utvQeOn"
      }
    }
  ]
}